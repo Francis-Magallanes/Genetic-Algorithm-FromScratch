{
 "metadata": {
  "language_info": {
   "codemirror_mode": {
    "name": "ipython",
    "version": 3
   },
   "file_extension": ".py",
   "mimetype": "text/x-python",
   "name": "python",
   "nbconvert_exporter": "python",
   "pygments_lexer": "ipython3",
   "version": 3
  },
  "orig_nbformat": 2
 },
 "nbformat": 4,
 "nbformat_minor": 2,
 "cells": [
  {
   "source": [
    "## Activity 5 - Travelling Salaesman Problem using GA\n",
    "by Francis John N. Magallanes\n",
    "\n",
    "Together with John Matthew Vong\n",
    "\n",
    "This jupyter notebook will follow the implementation in this [website](https://towardsdatascience.com/introduction-to-genetic-algorithms-including-example-code-e396e98d8bf3) and this [youtube video](https://www.youtube.com/watch?v=nhT56blfRpE). \n",
    "\n",
    "In this case, there will 5 functions to be implemented that will do the following:\n",
    "\n",
    "1. Initial Population\n",
    "2. Fitness function\n",
    "3. Selection\n",
    "4. Crossover\n",
    "5. Mutation\n",
    "\n",
    "\n",
    "As for the algorithmic implementation, it will follow the geeks for geeks (website)[geeksforgeeks.org/traveling-salesman-problem-using-genetic-algorithm/]. Below shows the algorithm:\n",
    "\n",
    "1. Initialize the population randomly.\n",
    "2. Determine the fitness value of the initial chromosome.\n",
    "3. Until termination criteria is achieved:\n",
    "    1. Select parents.\n",
    "    2. Perform crossover and mutation.\n",
    "    3. Calculate the fitness of the new population.\n",
    "    4. Append it to the gene pool."
   ],
   "cell_type": "markdown",
   "metadata": {}
  }
 ]
}