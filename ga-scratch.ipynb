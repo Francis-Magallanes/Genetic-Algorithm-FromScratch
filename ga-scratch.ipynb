{
 "metadata": {
  "language_info": {
   "codemirror_mode": {
    "name": "ipython",
    "version": 3
   },
   "file_extension": ".py",
   "mimetype": "text/x-python",
   "name": "python",
   "nbconvert_exporter": "python",
   "pygments_lexer": "ipython3",
   "version": "3.7.8"
  },
  "orig_nbformat": 2,
  "kernelspec": {
   "name": "python378jvsc74a57bd0ce11f34a6e98b7940ddd1de6bba18d8b39c708accd7fa23783d62410ed992f80",
   "display_name": "Python 3.7.8 64-bit"
  },
  "metadata": {
   "interpreter": {
    "hash": "ce11f34a6e98b7940ddd1de6bba18d8b39c708accd7fa23783d62410ed992f80"
   }
  }
 },
 "nbformat": 4,
 "nbformat_minor": 2,
 "cells": [
  {
   "source": [
    "## Activity 5 - Travelling Salaesman Problem using GA\n",
    "by Francis John N. Magallanes and John Matthew Vong\n",
    "\n",
    "This jupyter notebook will follow the implementation in this [website](https://towardsdatascience.com/introduction-to-genetic-algorithms-including-example-code-e396e98d8bf3), geeks for geeks [website](geeksforgeeks.org/traveling-salesman-problem-using-genetic-algorithm), and this [youtube video](https://www.youtube.com/watch?v=nhT56blfRpE). \n",
    "\n",
    "In this case, there will 5 functions to be implemented that will do the following:\n",
    "\n",
    "1. Initialization of the Population\n",
    "2. Fitness function\n",
    "3. Selection\n",
    "4. Crossover\n",
    "5. Mutation\n",
    "\n",
    "\n",
    "As for the algorithmic implementation, it will follow the geeks for geeks [website](geeksforgeeks.org/traveling-salesman-problem-using-genetic-algorithm) and the tutorialspoint [website](https://www.tutorialspoint.com/genetic_algorithms/genetic_algorithms_fundamentals.htm). Below shows the algorithm to be used in this implementation:\n",
    "\n",
    "1. Initialize the population randomly.\n",
    "2. Determine the fitness value of the initial chromosome.\n",
    "3. Until termination criteria is achieved:\n",
    "    1. Select parents and perform crossover.\n",
    "    2. Perform mutation.\n",
    "    3. Calculation of the fitness function\n",
    "    4. Survival Selection"
   ],
   "cell_type": "markdown",
   "metadata": {}
  },
  {
   "cell_type": "code",
   "execution_count": null,
   "metadata": {},
   "outputs": [],
   "source": [
    "#libraries used for this genetic algorithm\n",
    "import random"
   ]
  },
  {
   "source": [
    "### Travelling Salesman Problem\n",
    "\n",
    "The problem states that the salesman should visit every node once and return to the starting node\n",
    "\n",
    "Graph of our Problem:\n",
    "\n",
    "![graph of the travelling salesman problem](graph.png)"
   ],
   "cell_type": "markdown",
   "metadata": {}
  },
  {
   "cell_type": "code",
   "execution_count": null,
   "metadata": {},
   "outputs": [],
   "source": [
    "#Representation of the graph above with the corresponding cost\n",
    "#it will use \"adjacency list\" for the representation\n",
    "#note this will be the basis for the fitness function\n",
    "\n",
    "adj_list = {\n",
    "    #for the node A and its connections with the connection cost\n",
    "    \"A\" : {\"B\" : 3 , \"C\" : 6, \"D\" : 4, \"E\" : 9, \"G\" : 12},\n",
    "\n",
    "    #for the node B and its connections with the connection cost\n",
    "    \"B\" : {\"A\" : 3, \"C\": 5, \"G\": 6, \"F\" : 6},\n",
    "\n",
    "    #for the node C and its connections with the connection cost\n",
    "    \"C\" : {\"A\" : 6, \"B\" : 5, \"D\" : 2, \"E\" : 7, \"F\" : 4},\n",
    "\n",
    "    #for the node D and its connections with the connection cost\n",
    "    \"D\" : {\"A\" : 4, \"C\" : 2, \"E\" : 8, \"F\" : 7},\n",
    "\n",
    "    #for the node E and its connections with the connection cost\n",
    "    \"E\" : {\"A\" : 9, \"C\" : 7, \"D\" : 8, \"F\" : 3, \"G\" : 5},\n",
    "\n",
    "    #for the node F and its connections with the connection cost\n",
    "    \"F\" : {\"B\" : 6, \"C\" : 4, \"D\" : 7, \"E\" : 3},\n",
    "\n",
    "    #for the node G and its connections with the connection cost\n",
    "    \"G\" : {\"A\" : 12, \"B\" : 6, \"E\" : 5}\n",
    "}"
   ]
  },
  {
   "source": [
    "### Chromosome Representation\n",
    "\n",
    "The number of genes will be n -1 (where n is number of nodes in the graph) or 6 genes. Each chromosome represent a possible path or solution to the travelling sales man problem. Using OOP, the calculation of the fitness function and the mutation of the chromosome will be  incorporated to the class"
   ],
   "cell_type": "markdown",
   "metadata": {}
  },
  {
   "cell_type": "code",
   "execution_count": null,
   "metadata": {},
   "outputs": [],
   "source": [
    "class Chromosome_TSP():\n",
    "\n",
    "    def __init__(self):\n",
    "        #this will initialize chromosome through shuffling\n",
    "        self.chromosome = [\"B\", \"C\", \"D\", \"E\", \"F\", \"G\"]\n",
    "        random.shuffle(self.chromosome)\n",
    "    \n",
    "    #for the mutation of the chromosome\n",
    "    #it will use swap mutation\n",
    "    def mutation(self, mutation_rate : float = 0.1):\n",
    "        if random.random() <= mutation_rate :\n",
    "            i1, i2 = random.sample(range(7), 2) #randomly choose the places to be swapped\n",
    "            self.chromosome[i1], self.chromosome[i2] = self.chromosome[i2],self.chromosome[i1]\n",
    "    \n",
    "    #for the calculation of the fitness of the instance of the chromomosome \n",
    "    def calculate_fitness(self, adj_list : dict):\n",
    "        cost_path = 0  #this is for the results of the fitness\n",
    "        temp = [\"A\"] + self.chromosome + [\"A\"] # this will be essential for the computation\n",
    "\n",
    "        for i in range(len(self.chromosome)):\n",
    "            #this will check whether temp [i] and temp[i+1] is a valid edge\n",
    "            #if not, it will break the loop and the cost will be 100000 (or any larger values)\n",
    "            if temp[i + 1] in adj_list[temp[i]].keys():\n",
    "                cost_path = cost_path + adj_list[temp[i]][temp[i+1]]\n",
    "            else:\n",
    "                cost_path = 100000\n",
    "                break\n",
    "        \n",
    "        return cost_path\n"
   ]
  },
  {
   "source": [
    "### Initialization of the Population\n"
   ],
   "cell_type": "markdown",
   "metadata": {}
  },
  {
   "cell_type": "code",
   "execution_count": null,
   "metadata": {},
   "outputs": [],
   "source": [
    "def init_population(population_size) -> list:\n",
    "    return [Chromosome_TSP() for _ in range(population_size)]\n"
   ]
  },
  {
   "cell_type": "code",
   "execution_count": null,
   "metadata": {},
   "outputs": [],
   "source": []
  }
 ]
}