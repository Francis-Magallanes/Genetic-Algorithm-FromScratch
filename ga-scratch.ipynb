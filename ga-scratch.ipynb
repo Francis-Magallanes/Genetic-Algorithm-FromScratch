{
 "metadata": {
  "language_info": {
   "codemirror_mode": {
    "name": "ipython",
    "version": 3
   },
   "file_extension": ".py",
   "mimetype": "text/x-python",
   "name": "python",
   "nbconvert_exporter": "python",
   "pygments_lexer": "ipython3",
   "version": "3.7.8"
  },
  "orig_nbformat": 2,
  "kernelspec": {
   "name": "python378jvsc74a57bd0ce11f34a6e98b7940ddd1de6bba18d8b39c708accd7fa23783d62410ed992f80",
   "display_name": "Python 3.7.8 64-bit"
  },
  "metadata": {
   "interpreter": {
    "hash": "ce11f34a6e98b7940ddd1de6bba18d8b39c708accd7fa23783d62410ed992f80"
   }
  }
 },
 "nbformat": 4,
 "nbformat_minor": 2,
 "cells": [
  {
   "source": [
    "## Activity 5 - Travelling Salaesman Problem using GA\n",
    "by Francis John N. Magallanes and John Matthew Vong\n",
    "\n",
    "This jupyter notebook will follow the implementation in this [website](https://towardsdatascience.com/introduction-to-genetic-algorithms-including-example-code-e396e98d8bf3), geeks for geeks [website](geeksforgeeks.org/traveling-salesman-problem-using-genetic-algorithm), this [journal](http://www.jcreview.com/fulltext/197-1578037726.pdf?1578371869&fbclid=IwAR3dtCTyZE5FlArzuNRANS3guNg9OBPLPxDQVMogfkizO6BkPrUkhEC9X3Y), and this [youtube video](https://www.youtube.com/watch?v=nhT56blfRpE). Object Oriented Programming will be incorporated in the implementation especially on the representation of the chromosomes\n",
    "\n",
    "There will 5 functions to be implemented that will do the following:\n",
    "\n",
    "1. Initialization of the Population\n",
    "2. Fitness function\n",
    "3. Selection\n",
    "4. Crossover\n",
    "5. Mutation\n",
    "\n",
    "\n",
    "As for the algorithmic implementation, it will follow the geeks for geeks [website](geeksforgeeks.org/traveling-salesman-problem-using-genetic-algorithm) and the tutorialspoint [website](https://www.tutorialspoint.com/genetic_algorithms/genetic_algorithms_fundamentals.htm). Below shows the algorithm to be used in this implementation:\n",
    "\n",
    "1. Initialize the population randomly.\n",
    "2. Determine the fitness value of the initial chromosome.\n",
    "3. Until termination criteria is achieved:\n",
    "    1. Select parents and perform crossover.\n",
    "    2. Perform mutation.\n",
    "    3. Calculation of the fitness function\n",
    "    4. Survival Selection"
   ],
   "cell_type": "markdown",
   "metadata": {}
  },
  {
   "cell_type": "code",
   "execution_count": 79,
   "metadata": {},
   "outputs": [],
   "source": [
    "#libraries used for this genetic algorithm\n",
    "import random"
   ]
  },
  {
   "source": [
    "### Travelling Salesman Problem\n",
    "\n",
    "The problem states that the salesman should visit every node once and return to the starting node\n",
    "\n",
    "Graph of our Problem:\n",
    "\n",
    "![graph of the travelling salesman problem](graph.png)"
   ],
   "cell_type": "markdown",
   "metadata": {}
  },
  {
   "cell_type": "code",
   "execution_count": 80,
   "metadata": {},
   "outputs": [],
   "source": [
    "#Representation of the graph above with the corresponding cost\n",
    "#it will use \"adjacency list\" for the representation\n",
    "#note this will be the basis for the fitness function\n",
    "\n",
    "adj_list = {\n",
    "    #for the node A and its connections with the connection cost\n",
    "    \"A\" : {\"B\" : 3 , \"C\" : 6, \"D\" : 4, \"E\" : 9, \"G\" : 12},\n",
    "\n",
    "    #for the node B and its connections with the connection cost\n",
    "    \"B\" : {\"A\" : 3, \"C\": 5, \"G\": 6, \"F\" : 6},\n",
    "\n",
    "    #for the node C and its connections with the connection cost\n",
    "    \"C\" : {\"A\" : 6, \"B\" : 5, \"D\" : 2, \"E\" : 7, \"F\" : 4},\n",
    "\n",
    "    #for the node D and its connections with the connection cost\n",
    "    \"D\" : {\"A\" : 4, \"C\" : 2, \"E\" : 8, \"F\" : 7},\n",
    "\n",
    "    #for the node E and its connections with the connection cost\n",
    "    \"E\" : {\"A\" : 9, \"C\" : 7, \"D\" : 8, \"F\" : 3, \"G\" : 5},\n",
    "\n",
    "    #for the node F and its connections with the connection cost\n",
    "    \"F\" : {\"B\" : 6, \"C\" : 4, \"D\" : 7, \"E\" : 3},\n",
    "\n",
    "    #for the node G and its connections with the connection cost\n",
    "    \"G\" : {\"A\" : 12, \"B\" : 6, \"E\" : 5}\n",
    "}"
   ]
  },
  {
   "source": [
    "### Chromosome Representation\n",
    "\n",
    "The number of genes will be n -1 (where n is number of nodes in the graph) or 6 genes. Each chromosome represent a possible path or solution to the travelling sales man problem. Using OOP, the calculation of the fitness function and the mutation of the chromosome will be  incorporated to the class"
   ],
   "cell_type": "markdown",
   "metadata": {}
  },
  {
   "cell_type": "code",
   "execution_count": 81,
   "metadata": {},
   "outputs": [],
   "source": [
    "class Chromosome_TSP():\n",
    "\n",
    "    #the adj_list should contain the graph representation of TSP with weights\n",
    "    def __init__(self,adj_list : dict, chromosome:list = None, src: str = 'A'):\n",
    "        \n",
    "        self.adj_list = adj_list\n",
    "\n",
    "        if chromosome is None:\n",
    "            #this will initialize chromosome through shuffling\n",
    "            self.chromosome = list(self.adj_list)\n",
    "            self.chromosome.remove(src)\n",
    "            random.shuffle(self.chromosome)\n",
    "        else:\n",
    "            self.chromosome = chromosome\n",
    "    \n",
    "    #for the mutation of the chromosome\n",
    "    #it will use swap mutation\n",
    "    def mutation(self, mutation_rate : float = 0.1):\n",
    "        if random.random() <= mutation_rate :\n",
    "            i1, i2 = random.sample(range(6), 2) #randomly choose the places to be swapped\n",
    "            self.chromosome[i1], self.chromosome[i2] = self.chromosome[i2],self.chromosome[i1]\n",
    "    \n",
    "    #for the calculation of the fitness of the instance of the chromosome \n",
    "    def calculate_fitness(self) -> int:\n",
    "        cost_path = 0  #this is for the results of the fitness\n",
    "        temp = [\"A\"] + self.chromosome + [\"A\"] # this will be essential for the computation\n",
    "\n",
    "        for i in range(len(self.chromosome)):\n",
    "            #this will check whether temp [i] and temp[i+1] is a valid edge\n",
    "            #if not, it will break the loop and the cost will be 100000 (or any larger values)\n",
    "            if temp[i + 1] in self.adj_list[temp[i]].keys():\n",
    "                cost_path = cost_path + self.adj_list[temp[i]][temp[i+1]]\n",
    "            else:\n",
    "                cost_path = 100000\n",
    "                break\n",
    "        \n",
    "        return cost_path\n"
   ]
  },
  {
   "source": [
    "### Initialization of the Population Function\n"
   ],
   "cell_type": "markdown",
   "metadata": {}
  },
  {
   "cell_type": "code",
   "execution_count": 82,
   "metadata": {},
   "outputs": [],
   "source": [
    "def init_population(population_size) -> list:\n",
    "    return [Chromosome_TSP(adj_list) for _ in range(population_size)]\n"
   ]
  },
  {
   "source": [
    "### Crossover Function\n",
    "\n",
    "It will implement the Single Point Crossover. Click [here](https://www.ripublication.com/ijcir17/ijcirv13n7_15.pdf) for the reference implementation"
   ],
   "cell_type": "markdown",
   "metadata": {}
  },
  {
   "cell_type": "code",
   "execution_count": 83,
   "metadata": {},
   "outputs": [],
   "source": [
    "# this will implement the single point crossover\n",
    "def crossover_func(parent1 : Chromosome_TSP, parent2 : Chromosome_TSP ) -> Chromosome_TSP :\n",
    "\n",
    "    #randomly choose the crossover points\n",
    "    #with this, there is will be a min of 1 item and max of 5 items for crossover\n",
    "    crossover_pnt = random.randint(2,5)\n",
    "    \n",
    "    print(crossover_pnt)\n",
    "\n",
    "#copy the chromosome list from the parent to preserve the list of the parent's chromosome\n",
    "    c1 = parent1.chromosome.copy()\n",
    "    c2 = parent2.chromosome.copy()\n",
    "    \n",
    "    #the crossover proper\n",
    "    #child 1 chromosome\n",
    "    #this will initialize the chromosome and put the parent 2 chromosome\n",
    "    child1_chromosome = [\"\" for _ in range(crossover_pnt)] + c2 [crossover_pnt:]\n",
    "\n",
    "    #this will put the genes from parent1 to the child1\n",
    "    for i in range(crossover_pnt):\n",
    "        #this will avoid the duplicates\n",
    "        if not (c1[i] in  c2 [crossover_pnt:]) :\n",
    "            child1_chromosome[i] = c1[i]\n",
    "\n",
    "    #this is for the unfilled genes due to duplicates\n",
    "    if \"\" in child1_chromosome:\n",
    "        for i in range(len(child1_chromosome)):\n",
    "            \n",
    "            if child1_chromosome[i] == \"\":\n",
    "\n",
    "                #finding the another appropreaite gene\n",
    "                for gene in c1[crossover_pnt:] :\n",
    "                    if not (gene  in child1_chromosome):\n",
    "                        child1_chromosome[i] = gene\n",
    "                        break\n",
    "\n",
    "    #child 2 chromosome\n",
    "    #this will initialize the chromosome and put the parent 2 chromosome\n",
    "    child2_chromosome = [\"\" for _ in range(crossover_pnt)] + c1[crossover_pnt:]\n",
    "\n",
    "    #this will put the genes from parent1 to the child1\n",
    "    for i in range(crossover_pnt):\n",
    "        #this will avoid the duplicates\n",
    "        if not (c2[i] in  c1[crossover_pnt:]) :\n",
    "            child2_chromosome[i] = c2[i]\n",
    "\n",
    "    #this is for the unfilled genes due to duplicates\n",
    "    if \"\" in child2_chromosome:\n",
    "        for i in range(len(child2_chromosome)):\n",
    "            \n",
    "            if child2_chromosome[i] == \"\":\n",
    "\n",
    "                #finding the another appropreaite gene\n",
    "                for gene in c2[crossover_pnt:] :\n",
    "                    if not (gene  in child2_chromosome):\n",
    "                        child2_chromosome[i] = gene\n",
    "                        break\n",
    "\n",
    "    return Chromosome_TSP(parent1.adj_list, child1_chromosome), Chromosome_TSP(parent2.adj_list, child2_chromosome)"
   ]
  },
  {
   "cell_type": "code",
   "execution_count": 84,
   "metadata": {},
   "outputs": [
    {
     "output_type": "stream",
     "name": "stdout",
     "text": [
      "['C', 'F', 'B', 'G', 'D', 'E']\n['E', 'C', 'F', 'G', 'D', 'B']\n2\n['C', 'E', 'F', 'G', 'D', 'B']\n['F', 'C', 'B', 'G', 'D', 'E']\n"
     ]
    }
   ],
   "source": [
    "parent1 = Chromosome_TSP(adj_list)\n",
    "parent2 = Chromosome_TSP(adj_list)\n",
    "\n",
    "print(parent1.chromosome)\n",
    "print(parent2.chromosome)\n",
    "\n",
    "child1, child2 = crossover_func(parent1, parent2)\n",
    "\n",
    "print(child1.chromosome)\n",
    "print(child2.chromosome)"
   ]
  },
  {
   "source": [
    "### Selection Function"
   ],
   "cell_type": "markdown",
   "metadata": {}
  },
  {
   "cell_type": "code",
   "execution_count": 86,
   "metadata": {},
   "outputs": [],
   "source": [
    "#elitism will be implemented for the selection functin\n",
    "#Top Lowest will be basis of the elitism\n",
    "#n refers on the number of chromosomes to choosen for the next generation\n",
    "def selection_func (population : list, n : int) -> list :\n",
    "    \n",
    "    if len(population) < n:\n",
    "        raise Exception(\"number of chromosomes to be choosen is greater than the size of the population\")\n",
    "\n",
    "    #evaluate the population based on its fitness function\n",
    "    popu_eval = (c.calculate_fitness() for c in population)\n",
    "\n",
    "    # this will combine the chromosome and its evaluation of the whole population\n",
    "    popu_with_eval = list(zip(population,popu_eval)) \n",
    "\n",
    "    #this will sort the population according on its evaluation\n",
    "    popu_with_eval.sort(key = lambda i : i[1])\n",
    "\n",
    "    return popu_with_eval[:n] #this will only the bottom n chromosomes "
   ]
  },
  {
   "cell_type": "code",
   "execution_count": 88,
   "metadata": {},
   "outputs": [
    {
     "output_type": "stream",
     "name": "stdout",
     "text": [
      "25\n25\n25\n28\n32\n"
     ]
    }
   ],
   "source": [
    "p =  init_population(100)\n",
    "\n",
    "selected = selection_func(p,5)\n",
    "\n",
    "for s in selected:\n",
    "    print (s[1])"
   ]
  },
  {
   "cell_type": "code",
   "execution_count": 35,
   "metadata": {},
   "outputs": [
    {
     "output_type": "execute_result",
     "data": {
      "text/plain": [
       "{34: 2, 43: 5, 4: 4}"
      ]
     },
     "metadata": {},
     "execution_count": 35
    }
   ],
   "source": [
    "d =  {}\n",
    "d[34] = 2\n",
    "d[43] = 5\n",
    "d[4]= 4\n",
    "\n",
    "sorted(d)\n",
    "d"
   ]
  },
  {
   "cell_type": "code",
   "execution_count": null,
   "metadata": {},
   "outputs": [],
   "source": []
  }
 ]
}